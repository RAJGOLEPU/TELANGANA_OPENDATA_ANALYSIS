{
 "cells": [
  {
   "cell_type": "code",
   "execution_count": 1,
   "metadata": {},
   "outputs": [
    {
     "name": "stdout",
     "output_type": "stream",
     "text": [
      "Dataset Information:\n",
      "{'@type': 'dcat:Dataset', 'title': 'Telangana Weather Data 2023 - 2024', 'identifier': 'd0cdc94a-01c4-45fc-8b67-c61ba78dc58d', 'description': '<p><strong>Organisation:\\xa0Telangana State Development Planning Society</strong></p>\\r\\n\\r\\n<p><strong>Data available from 01-01-2023\\xa0to 31-07-2024</strong></p>\\r\\n\\r\\n<p>This dataset provides information about the cumulative rainfall, minimum & maximum temperature, humidity & wind speed across all\\xa0weather stations in the state of Telangana</p>\\r\\n\\r\\n<p>Metadata:\\xa0</p>\\r\\n\\r\\n<pre>\\r\\n\\'District\\': Name of the district,\\r\\n\\'Mandal\\': Name of the Mandal,\\r\\n\\'Date\\': Date in yyyy-mm-dd format,\\r\\n\\'Rainfall (mm)\\': Cumulative Rainfall in mm, \\r\\n\\'temp_min (⁰C)\\': Minimum Temperature in celcius,\\r\\n\\'temp_max (⁰C)\\': Maximum Temperature in celcius,\\r\\n\\'humidity_min (%)\\':Minimum Humidity %, \\r\\n\\'humidity_max (%)\\': Maximum Humidity %,\\r\\n\\'wind_speed_min (Kmph)\\': Minimum Wind Speed in kmph,\\r\\n\\'wind_speed_max (Kmph)\\': Maximum Wind Speed in kmph.</pre>\\r\\n\\r\\n<p><strong>Disclaimer</strong>: This dataset is only for \"Non-Commercial\" usage. If you intend to use this data for any commercial purpose, please obtain necessary permissions from the Telangana State Planning & Development Society. For Commercial Purposes, Please contact\\xa0<a href=\"mailto:tsdps-plg@telangana.gov.in\">tsdps-plg@telangana.gov.in</a>\\xa0and/or\\xa0<a href=\"mailto:tsdps.plg@gmail.com\">tsdps.plg@gmail.com</a></p>\\r\\n', 'keyword': ['Rainfall', 'weather', 'Telangana', 'mandals', 'Wind', 'Climate', 'temperature', '2023'], 'license': 'Government Open Data License - India', 'accessLevel': 'public', 'author': 'Telangana State Development Planning Society', 'granularity': 'Mandal Level', 'accrualPeriodicity': '2', 'modified': '2024-08-02T18:30:00+00:00', 'publisher': {'@type': 'org:Organization', 'name': 'Planning'}, 'contactPoint': {'fn': 'Telangana Open Data Unit', 'hasEmail': 'opendata@telangana.gov.in'}, 'theme': ['Agriculture', 'Irrigation'], 'distribution': [{'@type': 'dcat:Distribution', 'title': 'TS Weather data January 2023', 'format': 'csv', 'downloadURL': 'https://data.telangana.gov.in/sites/default/files/uploaded_resources/TS%20Weather%20data%20January%202023.csv'}, {'@type': 'dcat:Distribution', 'title': 'TS Weather data February 2023', 'format': 'csv', 'downloadURL': 'https://data.telangana.gov.in/sites/default/files/uploaded_resources/TS%20Weather%20data%20February%202023_0.csv'}, {'@type': 'dcat:Distribution', 'title': 'TS Weather data March 2023', 'format': 'csv', 'downloadURL': 'https://data.telangana.gov.in/sites/default/files/uploaded_resources/TS%20Weather%20data%20March%202023_0.csv'}, {'@type': 'dcat:Distribution', 'title': 'TS Weather data April 2023', 'format': 'csv', 'downloadURL': 'https://data.telangana.gov.in/sites/default/files/uploaded_resources/TS%20Weather%20data%20April%202023.csv'}, {'@type': 'dcat:Distribution', 'title': 'TS Weather data May 2023', 'format': 'csv', 'downloadURL': 'https://data.telangana.gov.in/sites/default/files/uploaded_resources/TS%20Weather%20data%20May%202023.csv'}, {'@type': 'dcat:Distribution', 'title': 'TS Weather data June 2023', 'format': 'csv', 'downloadURL': 'https://data.telangana.gov.in/sites/default/files/uploaded_resources/TS%20Weather%20data%20June%202023.csv'}, {'@type': 'dcat:Distribution', 'title': 'TS Weather data July 2023', 'format': 'csv', 'downloadURL': 'https://data.telangana.gov.in/sites/default/files/uploaded_resources/TS%20Weather%20data%20July%202023.csv'}, {'@type': 'dcat:Distribution', 'title': 'TS Weather data August 2023', 'format': 'csv', 'downloadURL': 'https://data.telangana.gov.in/sites/default/files/uploaded_resources/TS%20Weather%20data%20August%202023.csv'}, {'@type': 'dcat:Distribution', 'title': 'TS Weather data September 2023', 'format': 'csv', 'downloadURL': 'https://data.telangana.gov.in/sites/default/files/uploaded_resources/TS%20Weather%20data%20September%202023.csv'}, {'@type': 'dcat:Distribution', 'title': 'TS Weather data October 2023', 'format': 'csv', 'downloadURL': 'https://data.telangana.gov.in/sites/default/files/uploaded_resources/TS%20Weather%20data%20October%202023.csv'}, {'@type': 'dcat:Distribution', 'title': 'TS Weather data November 2023', 'format': 'csv', 'downloadURL': 'https://data.telangana.gov.in/sites/default/files/uploaded_resources/TS%20Weather%20data%20November%202023.csv'}, {'@type': 'dcat:Distribution', 'title': 'TS Weather data December 2023', 'format': 'csv', 'downloadURL': 'https://data.telangana.gov.in/sites/default/files/uploaded_resources/TS%20Weather%20data%20December%202023.csv'}, {'@type': 'dcat:Distribution', 'title': 'TS Weather data January 2024', 'format': 'csv', 'downloadURL': 'https://data.telangana.gov.in/sites/default/files/uploaded_resources/TS%20Weather%20data%20January%202024.csv'}, {'@type': 'dcat:Distribution', 'title': 'TS Weather data February 2024', 'format': 'csv', 'downloadURL': 'https://data.telangana.gov.in/sites/default/files/uploaded_resources/TS%20Weather%20data%20February%202024.csv'}, {'@type': 'dcat:Distribution', 'title': 'TS Weather data March 2024', 'format': 'csv', 'downloadURL': 'https://data.telangana.gov.in/sites/default/files/uploaded_resources/TS%20Weather%20data%20March%202024.csv'}, {'@type': 'dcat:Distribution', 'title': 'TS Weather data April 2024', 'format': 'csv', 'downloadURL': 'https://data.telangana.gov.in/sites/default/files/uploaded_resources/TS%20Weather%20data%20April%202024.csv'}, {'@type': 'dcat:Distribution', 'title': 'TG Weather data May 2024', 'format': 'csv', 'downloadURL': 'https://data.telangana.gov.in/sites/default/files/uploaded_resources/TG%20Weather%20data%20May%202024.csv'}, {'@type': 'dcat:Distribution', 'title': 'TG Weather data June 2024', 'format': 'csv', 'downloadURL': 'https://data.telangana.gov.in/sites/default/files/uploaded_resources/TG%20Weather%20data%20June%202024.csv'}, {'@type': 'dcat:Distribution', 'title': 'TG Weather data July 2024', 'format': 'csv', 'downloadURL': 'https://data.telangana.gov.in/sites/default/files/uploaded_resources/TG%20Weather%20data%20July%202024.csv'}]}\n"
     ]
    }
   ],
   "source": [
    "import requests\n",
    "\n",
    "# Set the base URL and dataset ID\n",
    "base_url = \"https://data.telangana.gov.in/api/1/\"\n",
    "dataset_id = \"d0cdc94a-01c4-45fc-8b67-c61ba78dc58d\"\n",
    "\n",
    "# Construct the full URL\n",
    "url = f\"{base_url}metastore/schemas/dataset/items/{dataset_id}\"\n",
    "\n",
    "# Make the GET request\n",
    "response = requests.get(url)\n",
    "\n",
    "# Check if the request was successful\n",
    "if response.status_code == 200:\n",
    "    dataset_info = response.json()\n",
    "    print(\"Dataset Information:\")\n",
    "    print(dataset_info)\n",
    "else:\n",
    "    print(f\"Error: {response.status_code} - {response.json().get('message')}\")\n"
   ]
  },
  {
   "cell_type": "code",
   "execution_count": 2,
   "metadata": {},
   "outputs": [],
   "source": [
    "# Extracting distribution links\n",
    "distributions = dataset_info.get('distribution')\n",
    "download_urls = [dist.get('downloadURL') for dist in distributions]\n"
   ]
  },
  {
   "cell_type": "code",
   "execution_count": 4,
   "metadata": {},
   "outputs": [
    {
     "name": "stdout",
     "output_type": "stream",
     "text": [
      "Loaded data from: https://data.telangana.gov.in/sites/default/files/uploaded_resources/TS%20Weather%20data%20January%202023.csv\n",
      "Loaded data from: https://data.telangana.gov.in/sites/default/files/uploaded_resources/TS%20Weather%20data%20February%202023_0.csv\n",
      "Loaded data from: https://data.telangana.gov.in/sites/default/files/uploaded_resources/TS%20Weather%20data%20March%202023_0.csv\n",
      "Loaded data from: https://data.telangana.gov.in/sites/default/files/uploaded_resources/TS%20Weather%20data%20April%202023.csv\n",
      "Loaded data from: https://data.telangana.gov.in/sites/default/files/uploaded_resources/TS%20Weather%20data%20May%202023.csv\n",
      "Loaded data from: https://data.telangana.gov.in/sites/default/files/uploaded_resources/TS%20Weather%20data%20June%202023.csv\n",
      "Loaded data from: https://data.telangana.gov.in/sites/default/files/uploaded_resources/TS%20Weather%20data%20July%202023.csv\n",
      "Loaded data from: https://data.telangana.gov.in/sites/default/files/uploaded_resources/TS%20Weather%20data%20August%202023.csv\n",
      "Loaded data from: https://data.telangana.gov.in/sites/default/files/uploaded_resources/TS%20Weather%20data%20September%202023.csv\n",
      "Loaded data from: https://data.telangana.gov.in/sites/default/files/uploaded_resources/TS%20Weather%20data%20October%202023.csv\n",
      "Loaded data from: https://data.telangana.gov.in/sites/default/files/uploaded_resources/TS%20Weather%20data%20November%202023.csv\n",
      "Loaded data from: https://data.telangana.gov.in/sites/default/files/uploaded_resources/TS%20Weather%20data%20December%202023.csv\n",
      "Loaded data from: https://data.telangana.gov.in/sites/default/files/uploaded_resources/TS%20Weather%20data%20January%202024.csv\n",
      "Loaded data from: https://data.telangana.gov.in/sites/default/files/uploaded_resources/TS%20Weather%20data%20February%202024.csv\n",
      "Loaded data from: https://data.telangana.gov.in/sites/default/files/uploaded_resources/TS%20Weather%20data%20March%202024.csv\n",
      "Loaded data from: https://data.telangana.gov.in/sites/default/files/uploaded_resources/TS%20Weather%20data%20April%202024.csv\n",
      "Loaded data from: https://data.telangana.gov.in/sites/default/files/uploaded_resources/TG%20Weather%20data%20May%202024.csv\n",
      "Loaded data from: https://data.telangana.gov.in/sites/default/files/uploaded_resources/TG%20Weather%20data%20June%202024.csv\n",
      "Loaded data from: https://data.telangana.gov.in/sites/default/files/uploaded_resources/TG%20Weather%20data%20July%202024.csv\n",
      "   District          Mandal       Date  Rain (mm)  Min Temp (°C)  \\\n",
      "0  Adilabad  Adilabad Rural  01-Apr-23        0.0           16.8   \n",
      "1  Adilabad  Adilabad Rural  01-Aug-23        0.0            7.7   \n",
      "2  Adilabad  Adilabad Rural  01-Dec-23        0.0           13.3   \n",
      "3  Adilabad  Adilabad Rural  01-Feb-23        0.0           14.7   \n",
      "4  Adilabad  Adilabad Rural  01-Jan-23        0.0           15.0   \n",
      "\n",
      "   Max Temp (°C)  Min Humidity (%)  Max Humidity (%)  Min Wind Speed (Kmph)  \\\n",
      "0           29.5              57.1              98.2                    0.0   \n",
      "1           26.9              39.8              95.4                    0.0   \n",
      "2           31.8              29.9              83.3                    0.0   \n",
      "3           30.2              49.9              94.9                    0.0   \n",
      "4           31.4              42.8              94.9                    0.0   \n",
      "\n",
      "   Max Wind Speed (Kmph)  \n",
      "0                    6.8  \n",
      "1                   10.8  \n",
      "2                    6.7  \n",
      "3                    7.2  \n",
      "4                    9.5  \n"
     ]
    }
   ],
   "source": [
    "import pandas as pd\n",
    "\n",
    "# Create a list to hold DataFrames\n",
    "data_frames = []\n",
    "\n",
    "# Loop through each download URL\n",
    "for url in download_urls:\n",
    "    try:\n",
    "        # Download the data\n",
    "        df = pd.read_csv(url)  # Use read_csv to load the CSV file\n",
    "        data_frames.append(df)  # Append the DataFrame to the list\n",
    "        print(f\"Loaded data from: {url}\")\n",
    "    except Exception as e:\n",
    "        print(f\"Failed to load data from {url}: {e}\")\n",
    "\n",
    "# concatenate all DataFrames into one\n",
    "full_data = pd.concat(data_frames, ignore_index=True)\n",
    "print(full_data.head())  # Display the first few rows of the combined DataFrame\n"
   ]
  },
  {
   "cell_type": "code",
   "execution_count": 5,
   "metadata": {},
   "outputs": [
    {
     "data": {
      "text/plain": [
       "(351018, 10)"
      ]
     },
     "execution_count": 5,
     "metadata": {},
     "output_type": "execute_result"
    }
   ],
   "source": [
    "full_data.shape"
   ]
  },
  {
   "cell_type": "code",
   "execution_count": 8,
   "metadata": {},
   "outputs": [],
   "source": [
    "full_data.to_csv('data/ts_weatherdata_2023-24.csv')"
   ]
  }
 ],
 "metadata": {
  "kernelspec": {
   "display_name": "main",
   "language": "python",
   "name": "python3"
  },
  "language_info": {
   "codemirror_mode": {
    "name": "ipython",
    "version": 3
   },
   "file_extension": ".py",
   "mimetype": "text/x-python",
   "name": "python",
   "nbconvert_exporter": "python",
   "pygments_lexer": "ipython3",
   "version": "3.12.4"
  }
 },
 "nbformat": 4,
 "nbformat_minor": 2
}
